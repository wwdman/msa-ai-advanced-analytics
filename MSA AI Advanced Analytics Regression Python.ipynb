{
  "cells": [
    {
      "metadata": {
        "trusted": true
      },
      "cell_type": "code",
      "source": "import numpy as np\nimport pandas as pd\nfrom sklearn.model_selection import train_test_split\nfrom sklearn.preprocessing import StandardScaler\nfrom sklearn import linear_model",
      "execution_count": 57,
      "outputs": []
    },
    {
      "metadata": {
        "trusted": true
      },
      "cell_type": "code",
      "source": "house_data = pd.read_csv('./housing_kaggle_train.csv')",
      "execution_count": 59,
      "outputs": []
    },
    {
      "metadata": {
        "trusted": true
      },
      "cell_type": "code",
      "source": "# Initial look at data\nprint(house_data.shape)\nprint(house_data.head())\nhouse_data.isnull().sum()",
      "execution_count": 60,
      "outputs": [
        {
          "output_type": "stream",
          "text": "(1460, 81)\n   Id  MSSubClass MSZoning  LotFrontage  LotArea Street Alley LotShape  \\\n0   1          60       RL         65.0     8450   Pave   NaN      Reg   \n1   2          20       RL         80.0     9600   Pave   NaN      Reg   \n2   3          60       RL         68.0    11250   Pave   NaN      IR1   \n3   4          70       RL         60.0     9550   Pave   NaN      IR1   \n4   5          60       RL         84.0    14260   Pave   NaN      IR1   \n\n  LandContour Utilities    ...     PoolArea PoolQC Fence MiscFeature MiscVal  \\\n0         Lvl    AllPub    ...            0    NaN   NaN         NaN       0   \n1         Lvl    AllPub    ...            0    NaN   NaN         NaN       0   \n2         Lvl    AllPub    ...            0    NaN   NaN         NaN       0   \n3         Lvl    AllPub    ...            0    NaN   NaN         NaN       0   \n4         Lvl    AllPub    ...            0    NaN   NaN         NaN       0   \n\n  MoSold YrSold  SaleType  SaleCondition  SalePrice  \n0      2   2008        WD         Normal     208500  \n1      5   2007        WD         Normal     181500  \n2      9   2008        WD         Normal     223500  \n3      2   2006        WD        Abnorml     140000  \n4     12   2008        WD         Normal     250000  \n\n[5 rows x 81 columns]\n",
          "name": "stdout"
        },
        {
          "output_type": "execute_result",
          "execution_count": 60,
          "data": {
            "text/plain": "Id                  0\nMSSubClass          0\nMSZoning            0\nLotFrontage       259\nLotArea             0\nStreet              0\nAlley            1369\nLotShape            0\nLandContour         0\nUtilities           0\nLotConfig           0\nLandSlope           0\nNeighborhood        0\nCondition1          0\nCondition2          0\nBldgType            0\nHouseStyle          0\nOverallQual         0\nOverallCond         0\nYearBuilt           0\nYearRemodAdd        0\nRoofStyle           0\nRoofMatl            0\nExterior1st         0\nExterior2nd         0\nMasVnrType          8\nMasVnrArea          8\nExterQual           0\nExterCond           0\nFoundation          0\n                 ... \nBedroomAbvGr        0\nKitchenAbvGr        0\nKitchenQual         0\nTotRmsAbvGrd        0\nFunctional          0\nFireplaces          0\nFireplaceQu       690\nGarageType         81\nGarageYrBlt        81\nGarageFinish       81\nGarageCars          0\nGarageArea          0\nGarageQual         81\nGarageCond         81\nPavedDrive          0\nWoodDeckSF          0\nOpenPorchSF         0\nEnclosedPorch       0\n3SsnPorch           0\nScreenPorch         0\nPoolArea            0\nPoolQC           1453\nFence            1179\nMiscFeature      1406\nMiscVal             0\nMoSold              0\nYrSold              0\nSaleType            0\nSaleCondition       0\nSalePrice           0\nLength: 81, dtype: int64"
          },
          "metadata": {}
        }
      ]
    },
    {
      "metadata": {
        "trusted": true
      },
      "cell_type": "code",
      "source": "# Select only numeric factors for initial regression \nhouse_data_num = house_data.select_dtypes(['int64', 'float64'])\nprint(house_data_num.head())",
      "execution_count": 61,
      "outputs": [
        {
          "output_type": "stream",
          "text": "   Id  MSSubClass  LotFrontage  LotArea  OverallQual  OverallCond  YearBuilt  \\\n0   1          60         65.0     8450            7            5       2003   \n1   2          20         80.0     9600            6            8       1976   \n2   3          60         68.0    11250            7            5       2001   \n3   4          70         60.0     9550            7            5       1915   \n4   5          60         84.0    14260            8            5       2000   \n\n   YearRemodAdd  MasVnrArea  BsmtFinSF1    ...      WoodDeckSF  OpenPorchSF  \\\n0          2003       196.0         706    ...               0           61   \n1          1976         0.0         978    ...             298            0   \n2          2002       162.0         486    ...               0           42   \n3          1970         0.0         216    ...               0           35   \n4          2000       350.0         655    ...             192           84   \n\n   EnclosedPorch  3SsnPorch  ScreenPorch  PoolArea  MiscVal  MoSold  YrSold  \\\n0              0          0            0         0        0       2    2008   \n1              0          0            0         0        0       5    2007   \n2              0          0            0         0        0       9    2008   \n3            272          0            0         0        0       2    2006   \n4              0          0            0         0        0      12    2008   \n\n   SalePrice  \n0     208500  \n1     181500  \n2     223500  \n3     140000  \n4     250000  \n\n[5 rows x 38 columns]\n",
          "name": "stdout"
        }
      ]
    },
    {
      "metadata": {},
      "cell_type": "markdown",
      "source": "### Train & Test split"
    },
    {
      "metadata": {
        "trusted": true
      },
      "cell_type": "code",
      "source": "house_train, house_test, target_train, target_test = train_test_split(\n    house_data_num.iloc[:,house_data_num.columns != 'SalePrice'], \n    house_data_num['SalePrice'], test_size=0.33, random_state=42)",
      "execution_count": 63,
      "outputs": []
    },
    {
      "metadata": {
        "trusted": true
      },
      "cell_type": "code",
      "source": "# Replace NaN & Nulls with the median of the column then standardise\nprint(house_train.isnull().sum())\n\nhouse_train = house_train.fillna(house_train.median())\nprint(house_train.isnull().sum())\n\nprint(house_test.isnull().sum())\n\nhouse_test = house_test.fillna(house_train.median())\nprint(house_test.isnull().sum())",
      "execution_count": 65,
      "outputs": [
        {
          "output_type": "stream",
          "text": "Id               0\nMSSubClass       0\nLotFrontage      0\nLotArea          0\nOverallQual      0\nOverallCond      0\nYearBuilt        0\nYearRemodAdd     0\nMasVnrArea       0\nBsmtFinSF1       0\nBsmtFinSF2       0\nBsmtUnfSF        0\nTotalBsmtSF      0\n1stFlrSF         0\n2ndFlrSF         0\nLowQualFinSF     0\nGrLivArea        0\nBsmtFullBath     0\nBsmtHalfBath     0\nFullBath         0\nHalfBath         0\nBedroomAbvGr     0\nKitchenAbvGr     0\nTotRmsAbvGrd     0\nFireplaces       0\nGarageYrBlt      0\nGarageCars       0\nGarageArea       0\nWoodDeckSF       0\nOpenPorchSF      0\nEnclosedPorch    0\n3SsnPorch        0\nScreenPorch      0\nPoolArea         0\nMiscVal          0\nMoSold           0\nYrSold           0\ndtype: int64\nId               0\nMSSubClass       0\nLotFrontage      0\nLotArea          0\nOverallQual      0\nOverallCond      0\nYearBuilt        0\nYearRemodAdd     0\nMasVnrArea       0\nBsmtFinSF1       0\nBsmtFinSF2       0\nBsmtUnfSF        0\nTotalBsmtSF      0\n1stFlrSF         0\n2ndFlrSF         0\nLowQualFinSF     0\nGrLivArea        0\nBsmtFullBath     0\nBsmtHalfBath     0\nFullBath         0\nHalfBath         0\nBedroomAbvGr     0\nKitchenAbvGr     0\nTotRmsAbvGrd     0\nFireplaces       0\nGarageYrBlt      0\nGarageCars       0\nGarageArea       0\nWoodDeckSF       0\nOpenPorchSF      0\nEnclosedPorch    0\n3SsnPorch        0\nScreenPorch      0\nPoolArea         0\nMiscVal          0\nMoSold           0\nYrSold           0\ndtype: int64\nId                0\nMSSubClass        0\nLotFrontage      76\nLotArea           0\nOverallQual       0\nOverallCond       0\nYearBuilt         0\nYearRemodAdd      0\nMasVnrArea        6\nBsmtFinSF1        0\nBsmtFinSF2        0\nBsmtUnfSF         0\nTotalBsmtSF       0\n1stFlrSF          0\n2ndFlrSF          0\nLowQualFinSF      0\nGrLivArea         0\nBsmtFullBath      0\nBsmtHalfBath      0\nFullBath          0\nHalfBath          0\nBedroomAbvGr      0\nKitchenAbvGr      0\nTotRmsAbvGrd      0\nFireplaces        0\nGarageYrBlt      28\nGarageCars        0\nGarageArea        0\nWoodDeckSF        0\nOpenPorchSF       0\nEnclosedPorch     0\n3SsnPorch         0\nScreenPorch       0\nPoolArea          0\nMiscVal           0\nMoSold            0\nYrSold            0\ndtype: int64\nId               0\nMSSubClass       0\nLotFrontage      0\nLotArea          0\nOverallQual      0\nOverallCond      0\nYearBuilt        0\nYearRemodAdd     0\nMasVnrArea       0\nBsmtFinSF1       0\nBsmtFinSF2       0\nBsmtUnfSF        0\nTotalBsmtSF      0\n1stFlrSF         0\n2ndFlrSF         0\nLowQualFinSF     0\nGrLivArea        0\nBsmtFullBath     0\nBsmtHalfBath     0\nFullBath         0\nHalfBath         0\nBedroomAbvGr     0\nKitchenAbvGr     0\nTotRmsAbvGrd     0\nFireplaces       0\nGarageYrBlt      0\nGarageCars       0\nGarageArea       0\nWoodDeckSF       0\nOpenPorchSF      0\nEnclosedPorch    0\n3SsnPorch        0\nScreenPorch      0\nPoolArea         0\nMiscVal          0\nMoSold           0\nYrSold           0\ndtype: int64\n",
          "name": "stdout"
        }
      ]
    },
    {
      "metadata": {
        "trusted": true
      },
      "cell_type": "code",
      "source": "scaler = StandardScaler()\nscaler.fit(house_train)\nhouse_train_scaled = scaler.transform(house_train)\nhouse_test_scaled = scaler.transform(house_test)",
      "execution_count": 66,
      "outputs": [
        {
          "output_type": "stream",
          "text": "/home/nbuser/anaconda3_501/lib/python3.6/site-packages/sklearn/preprocessing/data.py:645: DataConversionWarning: Data with input dtype int64, float64 were all converted to float64 by StandardScaler.\n  return self.partial_fit(X, y)\n/home/nbuser/anaconda3_501/lib/python3.6/site-packages/ipykernel/__main__.py:3: DataConversionWarning: Data with input dtype int64, float64 were all converted to float64 by StandardScaler.\n  app.launch_new_instance()\n/home/nbuser/anaconda3_501/lib/python3.6/site-packages/ipykernel/__main__.py:4: DataConversionWarning: Data with input dtype int64, float64 were all converted to float64 by StandardScaler.\n",
          "name": "stderr"
        }
      ]
    },
    {
      "metadata": {
        "trusted": true
      },
      "cell_type": "code",
      "source": "# Lasso regression to identify factors\nlasso = linear_model.Lasso(alpha=1)\nlasso.fit(house_train_scaled, target_train)\nprint(lasso.coef_)",
      "execution_count": 80,
      "outputs": [
        {
          "output_type": "stream",
          "text": "[-1083.80772589 -9300.97132316 -3226.97289586  5567.9339081\n 25007.36195276  3264.44192893  7460.7889029   4309.87938111\n  4636.80194279  4114.54927755  -151.10248799     0.\n   136.04618342 13219.00426165 13264.3992655   2599.96531143\n  2164.49921224  6271.03971668   -87.38119454  2898.815841\n    47.28086466 -7627.50058546 -2199.00894872 11184.20720622\n  3376.44040775  2290.1809666   9349.4514674     87.64147296\n  3408.56778486  -792.89021574   927.51999443  1643.37333593\n  5060.53718887 -5232.10825868  -475.54045883  -124.06356004\n  -267.74915703]\n",
          "name": "stdout"
        }
      ]
    },
    {
      "metadata": {
        "trusted": true
      },
      "cell_type": "code",
      "source": "lasso.score(house_test_scaled, target_test)",
      "execution_count": 81,
      "outputs": [
        {
          "output_type": "execute_result",
          "execution_count": 81,
          "data": {
            "text/plain": "0.7849895105683152"
          },
          "metadata": {}
        }
      ]
    },
    {
      "metadata": {
        "trusted": true
      },
      "cell_type": "code",
      "source": "results = []\nfor i in np.arange(0, 1, 0.1):\n    print(i)\n    lasso_test = linear_model.Lasso(alpha=i)\n    lasso_test.fit(house_train_scaled, target_train)\n    score = lasso_test.score(house_test_scaled, target_test)\n    results.append((i, score))\n    \nprint(results)\n    ",
      "execution_count": 82,
      "outputs": [
        {
          "output_type": "stream",
          "text": "0.0\n",
          "name": "stdout"
        },
        {
          "output_type": "stream",
          "text": "/home/nbuser/anaconda3_501/lib/python3.6/site-packages/ipykernel/__main__.py:5: UserWarning: With alpha=0, this algorithm does not converge well. You are advised to use the LinearRegression estimator\n/home/nbuser/anaconda3_501/lib/python3.6/site-packages/sklearn/linear_model/coordinate_descent.py:478: UserWarning: Coordinate descent with no regularization may lead to unexpected results and is discouraged.\n  positive)\n/home/nbuser/anaconda3_501/lib/python3.6/site-packages/sklearn/linear_model/coordinate_descent.py:492: ConvergenceWarning: Objective did not converge. You might want to increase the number of iterations. Fitting data with very small alpha may cause precision problems.\n  ConvergenceWarning)\n",
          "name": "stderr"
        },
        {
          "output_type": "stream",
          "text": "0.1\n",
          "name": "stdout"
        },
        {
          "output_type": "stream",
          "text": "/home/nbuser/anaconda3_501/lib/python3.6/site-packages/sklearn/linear_model/coordinate_descent.py:492: ConvergenceWarning: Objective did not converge. You might want to increase the number of iterations. Fitting data with very small alpha may cause precision problems.\n  ConvergenceWarning)\n",
          "name": "stderr"
        },
        {
          "output_type": "stream",
          "text": "0.2\n",
          "name": "stdout"
        },
        {
          "output_type": "stream",
          "text": "/home/nbuser/anaconda3_501/lib/python3.6/site-packages/sklearn/linear_model/coordinate_descent.py:492: ConvergenceWarning: Objective did not converge. You might want to increase the number of iterations. Fitting data with very small alpha may cause precision problems.\n  ConvergenceWarning)\n",
          "name": "stderr"
        },
        {
          "output_type": "stream",
          "text": "0.30000000000000004\n0.4\n0.5\n0.6000000000000001\n0.7000000000000001\n0.8\n0.9\n[(0.0, 0.7849800694711407), (0.1, 0.7849810130040558), (0.2, 0.7849819564123158), (0.30000000000000004, 0.7849829053876289), (0.4, 0.7849838466575371), (0.5, 0.7849847886511799), (0.6000000000000001, 0.7849857330085324), (0.7000000000000001, 0.7849866753493205), (0.8, 0.7849876279869215), (0.9, 0.7849885647210982)]\n",
          "name": "stdout"
        }
      ]
    },
    {
      "metadata": {
        "trusted": true
      },
      "cell_type": "code",
      "source": "lasso.predict(house_test)",
      "execution_count": 83,
      "outputs": [
        {
          "output_type": "execute_result",
          "execution_count": 83,
          "data": {
            "text/plain": "array([9.30959118e+07, 1.41362422e+08, 9.21287038e+07, 8.14003455e+07,\n       1.28949761e+08, 4.40645481e+07, 1.46895533e+08, 6.15216357e+07,\n       4.60914984e+07, 1.40763841e+08, 8.37249690e+07, 9.61656427e+07,\n       1.39325839e+08, 1.08347362e+08, 9.74207514e+07, 9.39208107e+07,\n       1.00009464e+08, 8.51813203e+07, 8.71435087e+07, 1.15381120e+08,\n       1.27895761e+08, 1.01615014e+08, 9.86559313e+07, 7.50109712e+07,\n       1.02148498e+08, 9.02485819e+07, 9.80440135e+07, 1.46797794e+08,\n       1.11818110e+08, 6.97995684e+07, 8.74111307e+07, 1.23528042e+08,\n       1.69382210e+08, 8.97387533e+07, 1.28442697e+08, 1.00329808e+08,\n       9.56768559e+07, 1.02734406e+08, 1.50967562e+08, 1.10915592e+08,\n       7.59305703e+07, 1.11826760e+08, 9.67387063e+07, 1.30963212e+08,\n       1.00695089e+08, 1.13835566e+08, 8.45298632e+07, 8.81437658e+07,\n       1.45997120e+08, 1.14798060e+08, 8.30800959e+07, 1.12412048e+08,\n       6.08174646e+07, 1.62234128e+08, 6.77235984e+07, 1.25202134e+08,\n       1.09245845e+08, 1.34435581e+08, 8.89070946e+07, 7.94732404e+07,\n       7.00332796e+07, 8.88384956e+07, 1.21137229e+08, 1.32758851e+08,\n       1.39854185e+08, 1.32513090e+08, 9.85081832e+07, 1.35122683e+08,\n       1.01785568e+08, 7.37777077e+07, 8.84001094e+07, 9.14410295e+07,\n       8.95773169e+07, 8.89963236e+07, 1.47966947e+08, 6.71982849e+07,\n       1.22204655e+08, 1.31317283e+08, 8.97040690e+07, 8.26100173e+07,\n       5.43306951e+07, 9.27128748e+07, 1.62822581e+08, 7.27890361e+07,\n       9.36230910e+07, 8.51212738e+07, 1.17499207e+08, 8.33732482e+07,\n       6.75134834e+07, 1.10232286e+08, 9.67540463e+07, 1.15140577e+08,\n       8.87788956e+07, 1.28070199e+08, 1.13813028e+08, 1.04630472e+08,\n       9.19509988e+07, 7.11826132e+07, 1.01976148e+08, 1.40379333e+08,\n       1.25350850e+08, 1.02190929e+08, 1.51593505e+08, 7.43310052e+07,\n       1.40835908e+08, 9.74590897e+07, 8.89120759e+07, 9.46525548e+07,\n       9.60986827e+07, 1.27651338e+08, 7.24114031e+07, 9.29966563e+07,\n       8.35029170e+07, 8.26626021e+07, 1.06692678e+08, 8.15139957e+07,\n       7.36908322e+07, 8.54395829e+07, 1.04379471e+08, 1.18126172e+08,\n       6.42933379e+07, 6.85695916e+07, 9.99653752e+07, 1.27462881e+08,\n       1.16811762e+08, 1.18912049e+08, 1.12313073e+08, 8.92911204e+07,\n       9.76811988e+07, 1.09832591e+08, 9.95026099e+07, 1.30332295e+08,\n       1.12002563e+08, 8.69585378e+07, 8.36348474e+07, 1.29316241e+08,\n       1.11865328e+08, 9.45546804e+07, 1.02839109e+08, 2.25898994e+08,\n       1.59505570e+08, 1.17603194e+08, 1.07138689e+08, 1.01294254e+08,\n       2.39408946e+08, 8.62614768e+07, 1.24037092e+08, 1.39680814e+08,\n       8.11064264e+07, 8.54908862e+07, 1.08615837e+08, 9.36531063e+07,\n       2.52662054e+08, 1.28689165e+08, 9.65557772e+07, 1.02924995e+08,\n       1.21959060e+08, 1.10978443e+08, 8.78627878e+07, 1.02514748e+08,\n       1.08351273e+08, 8.62015593e+07, 1.13686473e+08, 9.99382862e+07,\n       9.44216289e+07, 9.79338977e+07, 1.09410889e+08, 1.21582510e+08,\n       1.62732067e+08, 1.97175670e+08, 1.32311940e+08, 7.08966965e+07,\n       7.70191667e+07, 6.12719187e+07, 1.34347770e+08, 1.46107278e+08,\n       9.83313488e+07, 1.34369546e+08, 8.65664782e+07, 6.34935909e+07,\n       9.97863743e+07, 9.06591836e+07, 1.02127036e+08, 6.66874341e+07,\n       1.25669000e+08, 1.10253368e+08, 1.33102437e+08, 7.63171892e+07,\n       8.62757937e+07, 5.34007026e+07, 6.18703429e+07, 7.27746653e+07,\n       1.00680848e+08, 9.76323868e+07, 8.08673485e+07, 1.03744244e+08,\n       6.77739316e+07, 9.39347675e+07, 7.32912765e+07, 8.93904276e+07,\n       4.47972469e+08, 1.74186876e+08, 1.08372287e+08, 1.24972248e+08,\n       9.73256999e+07, 9.69734300e+07, 1.14267716e+08, 9.50823933e+07,\n       9.95425999e+07, 9.39180227e+07, 1.41020537e+08, 9.31079940e+07,\n       1.01078718e+08, 7.20444150e+07, 2.66860682e+08, 1.06928465e+08,\n       7.05653284e+07, 9.25960630e+07, 8.80821372e+07, 1.08631381e+08,\n       1.18448466e+08, 8.64407855e+07, 1.31845168e+08, 7.50457167e+07,\n       9.96265653e+07, 1.19137523e+08, 8.45715294e+07, 1.00350345e+08,\n       1.04665773e+08, 9.25839765e+07, 1.02068243e+08, 9.60828802e+07,\n       8.38978662e+07, 1.44789896e+08, 1.15614352e+08, 9.77839117e+07,\n       8.72779184e+07, 9.51613140e+07, 1.44720320e+08, 8.71374237e+07,\n       8.56346010e+07, 1.37355554e+08, 1.09864797e+08, 1.54678261e+08,\n       1.08459570e+08, 8.89098240e+07, 1.02191886e+08, 1.26085104e+08,\n       7.00911559e+07, 7.28465348e+07, 1.76618446e+08, 1.09559058e+08,\n       1.02114294e+08, 6.62763205e+07, 1.14086440e+08, 6.62462382e+07,\n       6.83146711e+07, 5.69663013e+07, 9.24442017e+07, 1.20131325e+08,\n       1.39476700e+08, 1.11775313e+08, 1.02024547e+08, 1.32451621e+08,\n       1.14193852e+08, 1.37883637e+08, 7.93296183e+07, 6.71890900e+07,\n       9.95127709e+07, 9.38543778e+07, 1.42234793e+08, 8.04119034e+07,\n       1.12108289e+08, 5.83982907e+07, 9.86891825e+07, 9.43100435e+07,\n       6.60762733e+07, 1.01418117e+08, 1.94995197e+08, 1.12438047e+08,\n       1.32864684e+08, 4.48213506e+07, 9.59051860e+07, 8.98007786e+07,\n       1.20710367e+08, 9.99064656e+07, 1.26087734e+08, 7.97504331e+07,\n       1.45660306e+08, 9.74738443e+07, 9.99757034e+07, 8.58238962e+07,\n       9.84997686e+07, 9.39679679e+07, 8.83154373e+07, 9.68379918e+07,\n       8.11445945e+07, 9.98827583e+07, 1.17821571e+08, 7.62486362e+07,\n       1.20756899e+08, 1.02233970e+08, 8.68408744e+07, 1.24063311e+08,\n       1.20927313e+08, 1.36238750e+08, 9.87210968e+07, 1.07415667e+08,\n       1.80303030e+08, 8.63856059e+07, 9.57866057e+07, 1.29082576e+08,\n       9.72156190e+07, 1.34432547e+08, 8.43708593e+07, 1.06231097e+08,\n       1.04854105e+08, 6.92121454e+07, 1.58512992e+08, 9.09603741e+07,\n       1.04097412e+08, 9.38136877e+07, 1.12062400e+08, 7.30383362e+07,\n       1.13876827e+08, 1.12605266e+08, 8.28415506e+07, 8.82887574e+07,\n       1.21788162e+08, 9.13004953e+07, 9.06990000e+07, 1.27428688e+08,\n       7.80775650e+07, 9.30476298e+07, 6.74643583e+07, 9.35409980e+07,\n       7.54397555e+07, 7.27936954e+07, 9.68427528e+07, 1.13490056e+08,\n       9.78056939e+07, 8.19912582e+07, 9.36272830e+07, 9.73840516e+07,\n       1.33563377e+08, 1.22690892e+08, 1.30766988e+08, 8.92784291e+07,\n       1.33067622e+08, 1.00222090e+08, 1.43870297e+08, 1.48992911e+08,\n       7.99395882e+07, 1.14783007e+08, 1.12058184e+08, 1.07491033e+08,\n       1.01123564e+08, 7.63825964e+07, 9.56117284e+07, 1.28613098e+08,\n       1.26176583e+08, 1.04474685e+08, 1.12964620e+08, 2.24450647e+08,\n       9.44228668e+07, 6.74764848e+07, 1.03845404e+08, 9.57852622e+07,\n       1.16888044e+08, 1.06430179e+08, 1.11385475e+08, 9.81536973e+07,\n       8.86453895e+07, 9.93824645e+07, 1.03599305e+08, 8.90932147e+07,\n       1.55538867e+08, 1.26172070e+08, 5.28568161e+07, 1.16926785e+08,\n       9.66669833e+07, 2.37190032e+08, 1.15938275e+08, 1.26950164e+08,\n       1.29415666e+08, 1.12091966e+08, 9.85432742e+07, 1.03244811e+08,\n       1.27491591e+08, 1.11010390e+08, 7.64014976e+07, 1.74716262e+08,\n       6.88756108e+07, 1.24141408e+08, 1.18632508e+08, 1.59298558e+08,\n       8.35334714e+07, 6.93094518e+07, 1.09596801e+08, 1.13345838e+08,\n       9.36632709e+07, 3.33711603e+08, 1.02562686e+08, 9.42158849e+07,\n       9.98239982e+07, 1.00615345e+08, 9.61310231e+07, 1.89911612e+08,\n       1.30743224e+08, 7.89824464e+07, 1.15652460e+08, 1.00420996e+08,\n       6.76801374e+07, 1.14083530e+08, 9.18051390e+07, 1.83624517e+08,\n       9.36814272e+07, 1.27548034e+08, 1.26952871e+08, 1.09302243e+08,\n       1.12843938e+08, 1.05058632e+08, 8.02763622e+07, 1.22532337e+08,\n       1.32523529e+08, 8.39332458e+07, 8.68527592e+07, 1.04388078e+08,\n       8.84742102e+07, 1.11809969e+08, 8.85733515e+07, 9.63879320e+07,\n       1.50545730e+08, 9.21737698e+07, 7.87473085e+07, 9.77130547e+07,\n       1.13201860e+08, 1.54874035e+08, 1.12701662e+08, 6.43542314e+07,\n       9.92787058e+07, 1.22584556e+08, 1.13971816e+08, 1.01326389e+08,\n       1.18768995e+08, 1.27923954e+08, 1.25216557e+08, 1.27938733e+08,\n       8.85006605e+07, 9.99275164e+07, 7.55040930e+07, 1.06135697e+08,\n       1.59442211e+08, 1.16189624e+08, 8.27364888e+07, 1.00172187e+08,\n       1.29529478e+08, 1.27023495e+08, 1.13285116e+08, 1.28462853e+08,\n       1.07400551e+08, 6.25362262e+07, 1.26812803e+08, 1.15446515e+08,\n       1.17982195e+08, 1.88323735e+08, 1.24789240e+08, 6.75313211e+07,\n       9.96248720e+07, 1.21821887e+08, 1.08485471e+08, 8.28627545e+07,\n       8.53520768e+07, 7.92736646e+07, 1.18731870e+08, 1.45313988e+08,\n       1.08893079e+08, 1.63637107e+08, 9.48480241e+07, 1.74169954e+08,\n       1.28108485e+08, 1.18330314e+08])"
          },
          "metadata": {}
        }
      ]
    },
    {
      "metadata": {
        "trusted": true
      },
      "cell_type": "code",
      "source": "",
      "execution_count": null,
      "outputs": []
    }
  ],
  "metadata": {
    "kernelspec": {
      "name": "python36",
      "display_name": "Python 3.6",
      "language": "python"
    },
    "language_info": {
      "mimetype": "text/x-python",
      "nbconvert_exporter": "python",
      "name": "python",
      "pygments_lexer": "ipython3",
      "version": "3.6.6",
      "file_extension": ".py",
      "codemirror_mode": {
        "version": 3,
        "name": "ipython"
      }
    }
  },
  "nbformat": 4,
  "nbformat_minor": 1
}